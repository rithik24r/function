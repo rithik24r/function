{
  "nbformat": 4,
  "nbformat_minor": 0,
  "metadata": {
    "colab": {
      "name": "Welcome To Colaboratory",
      "provenance": [],
      "collapsed_sections": [],
      "toc_visible": true
    },
    "kernelspec": {
      "display_name": "Python 3",
      "name": "python3"
    }
  },
  "cells": [
    {
      "cell_type": "code",
      "metadata": {
        "id": "NOe0o7BglVr1",
        "colab_type": "code",
        "colab": {
          "base_uri": "https://localhost:8080/",
          "height": 54
        },
        "outputId": "82a452a5-499d-467b-8e8d-8b1c845fad81"
      },
      "source": [
        "#max of three numbers\n",
        "def max(a,b,c):\n",
        "           if(a>b):\n",
        "                   print(\"a is largest\")\n",
        "           elif (b>c):\n",
        "                        print(\"b is largest\")\n",
        "           else:\n",
        "                   print(\"c is largest\")\n",
        "a=1\n",
        "b=2\n",
        "c=3\n",
        "print(max(a,b,c))           "
      ],
      "execution_count": 19,
      "outputs": [
        {
          "output_type": "stream",
          "text": [
            "c is largest\n",
            "None\n"
          ],
          "name": "stdout"
        }
      ]
    },
    {
      "cell_type": "code",
      "metadata": {
        "id": "U2iICYfrpg7L",
        "colab_type": "code",
        "colab": {
          "base_uri": "https://localhost:8080/",
          "height": 35
        },
        "outputId": "e9c2a5f2-13dd-487b-8ecd-48f74cbe92f5"
      },
      "source": [
        "#prime numnber or not\n",
        "def prime(n):\n",
        "              if(n==1):\n",
        "                        return False\n",
        "              elif (n==2):\n",
        "                           return True\n",
        "              else:\n",
        "                   for x in range(2,n):\n",
        "                                          if(n%x==0):\n",
        "                                                       return False\n",
        "                                                       return True\n",
        "print(prime(2))          "
      ],
      "execution_count": 34,
      "outputs": [
        {
          "output_type": "stream",
          "text": [
            "True\n"
          ],
          "name": "stdout"
        }
      ]
    },
    {
      "cell_type": "code",
      "metadata": {
        "id": "0NfTfwgDx7_z",
        "colab_type": "code",
        "colab": {}
      },
      "source": [
        ""
      ],
      "execution_count": null,
      "outputs": []
    },
    {
      "cell_type": "code",
      "metadata": {
        "id": "eix4uOa5ts8j",
        "colab_type": "code",
        "colab": {
          "base_uri": "https://localhost:8080/",
          "height": 54
        },
        "outputId": "15080ddd-e177-48f7-b06a-e8f29cc0a7b0"
      },
      "source": [
        "#pallindrome or not\n",
        "num=input(\"enter the number\")\n",
        "try:\n",
        "       temp=int(num)\n",
        "       rev=0\n",
        "       num1=int(num)\n",
        "       while(num1>0):\n",
        "               r=num1%10\n",
        "               rev=rev*10+r\n",
        "               num1=num1//10\n",
        "       if temp==rev:\n",
        "                     print(\"number is pallindrome\")\n",
        "       else:\n",
        "                      print(\"not a pallindrome\")\n",
        "except valueerror:\n",
        "                  print(\"the input is not proper\")\n",
        "                                 \n",
        "  "
      ],
      "execution_count": 37,
      "outputs": [
        {
          "output_type": "stream",
          "text": [
            "enter the number121\n",
            "number is pallindrome\n"
          ],
          "name": "stdout"
        }
      ]
    },
    {
      "cell_type": "code",
      "metadata": {
        "id": "ssagAU1gyPCM",
        "colab_type": "code",
        "colab": {
          "base_uri": "https://localhost:8080/",
          "height": 54
        },
        "outputId": "181692e8-c881-4b70-dc27-d0e265139ff2"
      },
      "source": [
        "#reverse of a string\n",
        "a=input(\"enter the string\")\n",
        "x=a[::-1]\n",
        "print(x)\n",
        "                     "
      ],
      "execution_count": 41,
      "outputs": [
        {
          "output_type": "stream",
          "text": [
            "enter the stringgitam\n",
            "matig\n"
          ],
          "name": "stdout"
        }
      ]
    },
    {
      "cell_type": "code",
      "metadata": {
        "id": "dL2AzRPCzm4D",
        "colab_type": "code",
        "colab": {
          "base_uri": "https://localhost:8080/",
          "height": 35
        },
        "outputId": "45f207b8-f38b-4cf6-e652-79c502968ab7"
      },
      "source": [
        "#sum of squares\n",
        "def squares(n):\n",
        "     sum=0\n",
        "     for i in range(1,n+1):\n",
        "           sum=sum+(i*1)\n",
        "\n",
        "     return sum\n",
        "n=4\n",
        "print(squares(n))\n"
      ],
      "execution_count": 50,
      "outputs": [
        {
          "output_type": "stream",
          "text": [
            "10\n"
          ],
          "name": "stdout"
        }
      ]
    }
  ]
}